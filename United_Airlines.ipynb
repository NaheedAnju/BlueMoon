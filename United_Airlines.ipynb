{
 "cells": [
  {
   "cell_type": "code",
   "execution_count": 1,
   "id": "0f83afe5",
   "metadata": {},
   "outputs": [
    {
     "name": "stderr",
     "output_type": "stream",
     "text": [
      "C:\\ProgramData\\Anaconda3\\lib\\site-packages\\scipy\\__init__.py:146: UserWarning: A NumPy version >=1.16.5 and <1.23.0 is required for this version of SciPy (detected version 1.25.0\n",
      "  warnings.warn(f\"A NumPy version >={np_minversion} and <{np_maxversion}\"\n"
     ]
    }
   ],
   "source": [
    "import nltk\n",
    "from nltk.tokenize import word_tokenize\n",
    "from transformers import AutoModelForSequenceClassification, AutoTokenizer\n",
    "import pandas as pd\n",
    "import numpy as np\n",
    "import matplotlib.pyplot as plt\n",
    "import seaborn as sns\n",
    "\n",
    "plt.style.use('ggplot') #Setting style sheets that we're using for plot\n",
    "from nltk.sentiment import SentimentIntensityAnalyzer\n",
    "from tqdm.notebook import tqdm\n",
    "from transformers import AutoTokenizer\n",
    "from transformers import AutoModelForSequenceClassification\n",
    "from scipy.special import softmax"
   ]
  },
  {
   "cell_type": "code",
   "execution_count": 3,
   "id": "3f1aae06",
   "metadata": {},
   "outputs": [],
   "source": [
    "calls = pd.read_csv('calls.csv')\n",
    "customers = pd.read_csv('customers.csv')\n",
    "reason = pd.read_csv('reason.csv')\n",
    "sentiment = pd.read_csv('sentiment_statisticsc.csv')\n",
    "test = pd.read_csv('test.csv')"
   ]
  },
  {
   "cell_type": "code",
   "execution_count": 17,
   "id": "044d1d32",
   "metadata": {},
   "outputs": [
    {
     "data": {
      "text/html": [
       "<div>\n",
       "<style scoped>\n",
       "    .dataframe tbody tr th:only-of-type {\n",
       "        vertical-align: middle;\n",
       "    }\n",
       "\n",
       "    .dataframe tbody tr th {\n",
       "        vertical-align: top;\n",
       "    }\n",
       "\n",
       "    .dataframe thead th {\n",
       "        text-align: right;\n",
       "    }\n",
       "</style>\n",
       "<table border=\"1\" class=\"dataframe\">\n",
       "  <thead>\n",
       "    <tr style=\"text-align: right;\">\n",
       "      <th></th>\n",
       "      <th>call_id</th>\n",
       "      <th>primary_call_reason</th>\n",
       "    </tr>\n",
       "  </thead>\n",
       "  <tbody>\n",
       "    <tr>\n",
       "      <th>0</th>\n",
       "      <td>4667960400</td>\n",
       "      <td>Voluntary  Cancel</td>\n",
       "    </tr>\n",
       "    <tr>\n",
       "      <th>1</th>\n",
       "      <td>1122072124</td>\n",
       "      <td>Booking</td>\n",
       "    </tr>\n",
       "    <tr>\n",
       "      <th>2</th>\n",
       "      <td>6834291559</td>\n",
       "      <td>IRROPS</td>\n",
       "    </tr>\n",
       "    <tr>\n",
       "      <th>3</th>\n",
       "      <td>2266439882</td>\n",
       "      <td>Upgrade</td>\n",
       "    </tr>\n",
       "    <tr>\n",
       "      <th>4</th>\n",
       "      <td>1211603231</td>\n",
       "      <td>Seating</td>\n",
       "    </tr>\n",
       "  </tbody>\n",
       "</table>\n",
       "</div>"
      ],
      "text/plain": [
       "      call_id primary_call_reason\n",
       "0  4667960400   Voluntary  Cancel\n",
       "1  1122072124             Booking\n",
       "2  6834291559              IRROPS\n",
       "3  2266439882             Upgrade\n",
       "4  1211603231             Seating"
      ]
     },
     "execution_count": 17,
     "metadata": {},
     "output_type": "execute_result"
    }
   ],
   "source": [
    "reason.head()"
   ]
  },
  {
   "cell_type": "code",
   "execution_count": 20,
   "id": "93b581ec",
   "metadata": {
    "scrolled": true
   },
   "outputs": [
    {
     "data": {
      "text/plain": [
       "IRROPS                     13057\n",
       "Voluntary Change           10291\n",
       "Seating                     6223\n",
       "Mileage Plus                5487\n",
       "Post-Flight                 3869\n",
       "Communications              3779\n",
       "Products and Services       2792\n",
       "Upgrade                     2682\n",
       "Baggage                     2616\n",
       "Booking                     2589\n",
       "Checkout                    1840\n",
       "Check-In                    1490\n",
       "Voluntary Cancel            1304\n",
       "Digital Support              996\n",
       "ETC                          930\n",
       "Traveler Updates             772\n",
       "Schedule Change              707\n",
       "Other Topics                 568\n",
       "Products & Services          476\n",
       "Disability                   394\n",
       "Check In                     385\n",
       "Post Flight                  373\n",
       "Voluntary  Cancel            278\n",
       "IRROPS                       254\n",
       "Other  Topics                234\n",
       "Voluntary Change             208\n",
       "Voluntary   Change           200\n",
       "Voluntary  Change            149\n",
       "Seating                      142\n",
       "Digital   Support            136\n",
       "Mileage  Plus                135\n",
       "Baggage                      130\n",
       "Mileage   Plus               129\n",
       "Traveler   Updates           117\n",
       "Unaccompanied Minor          103\n",
       "Mileage Plus                 100\n",
       "Post-Flight                   88\n",
       " Baggage                      86\n",
       "Digital  Support              75\n",
       "Products and Services         64\n",
       "Communications                61\n",
       "Upgrade                       56\n",
       "Checkout                      48\n",
       "Booking                       48\n",
       "Traveler  Updates             38\n",
       "Check-In                      29\n",
       "Voluntary Cancel              25\n",
       "Schedule Change               24\n",
       "ETC                           22\n",
       "Digital Support               18\n",
       "Other Topics                  16\n",
       "Traveler Updates              10\n",
       "Disability                     9\n",
       "Unaccompanied Minor            1\n",
       "Name: primary_call_reason, dtype: int64"
      ]
     },
     "execution_count": 20,
     "metadata": {},
     "output_type": "execute_result"
    }
   ],
   "source": [
    "reason['primary_call_reason'].value_counts()"
   ]
  },
  {
   "cell_type": "code",
   "execution_count": 10,
   "id": "3522adfc",
   "metadata": {},
   "outputs": [
    {
     "data": {
      "text/html": [
       "<div>\n",
       "<style scoped>\n",
       "    .dataframe tbody tr th:only-of-type {\n",
       "        vertical-align: middle;\n",
       "    }\n",
       "\n",
       "    .dataframe tbody tr th {\n",
       "        vertical-align: top;\n",
       "    }\n",
       "\n",
       "    .dataframe thead th {\n",
       "        text-align: right;\n",
       "    }\n",
       "</style>\n",
       "<table border=\"1\" class=\"dataframe\">\n",
       "  <thead>\n",
       "    <tr style=\"text-align: right;\">\n",
       "      <th></th>\n",
       "      <th>call_id</th>\n",
       "      <th>agent_id</th>\n",
       "      <th>agent_tone</th>\n",
       "      <th>customer_tone</th>\n",
       "      <th>average_sentiment</th>\n",
       "      <th>silence_percent_average</th>\n",
       "    </tr>\n",
       "  </thead>\n",
       "  <tbody>\n",
       "    <tr>\n",
       "      <th>0</th>\n",
       "      <td>4667960400</td>\n",
       "      <td>963118</td>\n",
       "      <td>neutral</td>\n",
       "      <td>angry</td>\n",
       "      <td>-0.04</td>\n",
       "      <td>0.39</td>\n",
       "    </tr>\n",
       "    <tr>\n",
       "      <th>1</th>\n",
       "      <td>1122072124</td>\n",
       "      <td>519057</td>\n",
       "      <td>calm</td>\n",
       "      <td>neutral</td>\n",
       "      <td>0.02</td>\n",
       "      <td>0.35</td>\n",
       "    </tr>\n",
       "    <tr>\n",
       "      <th>2</th>\n",
       "      <td>6834291559</td>\n",
       "      <td>158319</td>\n",
       "      <td>neutral</td>\n",
       "      <td>polite</td>\n",
       "      <td>-0.13</td>\n",
       "      <td>0.32</td>\n",
       "    </tr>\n",
       "    <tr>\n",
       "      <th>3</th>\n",
       "      <td>2266439882</td>\n",
       "      <td>488324</td>\n",
       "      <td>neutral</td>\n",
       "      <td>frustrated</td>\n",
       "      <td>-0.20</td>\n",
       "      <td>0.20</td>\n",
       "    </tr>\n",
       "    <tr>\n",
       "      <th>4</th>\n",
       "      <td>1211603231</td>\n",
       "      <td>721730</td>\n",
       "      <td>neutral</td>\n",
       "      <td>polite</td>\n",
       "      <td>-0.05</td>\n",
       "      <td>0.35</td>\n",
       "    </tr>\n",
       "  </tbody>\n",
       "</table>\n",
       "</div>"
      ],
      "text/plain": [
       "      call_id  agent_id agent_tone customer_tone  average_sentiment  \\\n",
       "0  4667960400    963118    neutral         angry              -0.04   \n",
       "1  1122072124    519057       calm       neutral               0.02   \n",
       "2  6834291559    158319    neutral        polite              -0.13   \n",
       "3  2266439882    488324    neutral    frustrated              -0.20   \n",
       "4  1211603231    721730    neutral        polite              -0.05   \n",
       "\n",
       "   silence_percent_average  \n",
       "0                     0.39  \n",
       "1                     0.35  \n",
       "2                     0.32  \n",
       "3                     0.20  \n",
       "4                     0.35  "
      ]
     },
     "execution_count": 10,
     "metadata": {},
     "output_type": "execute_result"
    }
   ],
   "source": [
    "sentiment.head()\n"
   ]
  },
  {
   "cell_type": "code",
   "execution_count": 35,
   "id": "20614f12",
   "metadata": {},
   "outputs": [
    {
     "data": {
      "text/html": [
       "<div>\n",
       "<style scoped>\n",
       "    .dataframe tbody tr th:only-of-type {\n",
       "        vertical-align: middle;\n",
       "    }\n",
       "\n",
       "    .dataframe tbody tr th {\n",
       "        vertical-align: top;\n",
       "    }\n",
       "\n",
       "    .dataframe thead th {\n",
       "        text-align: right;\n",
       "    }\n",
       "</style>\n",
       "<table border=\"1\" class=\"dataframe\">\n",
       "  <thead>\n",
       "    <tr style=\"text-align: right;\">\n",
       "      <th></th>\n",
       "      <th>customer_tone</th>\n",
       "      <th>average_sentiment</th>\n",
       "    </tr>\n",
       "  </thead>\n",
       "  <tbody>\n",
       "    <tr>\n",
       "      <th>0</th>\n",
       "      <td>angry</td>\n",
       "      <td>-0.032427</td>\n",
       "    </tr>\n",
       "    <tr>\n",
       "      <th>1</th>\n",
       "      <td>calm</td>\n",
       "      <td>-0.032501</td>\n",
       "    </tr>\n",
       "    <tr>\n",
       "      <th>2</th>\n",
       "      <td>frustrated</td>\n",
       "      <td>-0.034490</td>\n",
       "    </tr>\n",
       "    <tr>\n",
       "      <th>3</th>\n",
       "      <td>neutral</td>\n",
       "      <td>-0.033709</td>\n",
       "    </tr>\n",
       "    <tr>\n",
       "      <th>4</th>\n",
       "      <td>polite</td>\n",
       "      <td>-0.034475</td>\n",
       "    </tr>\n",
       "  </tbody>\n",
       "</table>\n",
       "</div>"
      ],
      "text/plain": [
       "  customer_tone  average_sentiment\n",
       "0         angry          -0.032427\n",
       "1          calm          -0.032501\n",
       "2    frustrated          -0.034490\n",
       "3       neutral          -0.033709\n",
       "4        polite          -0.034475"
      ]
     },
     "execution_count": 35,
     "metadata": {},
     "output_type": "execute_result"
    }
   ],
   "source": [
    "sentiment_df = sentiment.groupby('agent_tone')['average_sentiment'].mean().reset_index()\n",
    "sentiment_df"
   ]
  },
  {
   "cell_type": "code",
   "execution_count": 31,
   "id": "45141b2b",
   "metadata": {},
   "outputs": [
    {
     "data": {
      "text/plain": [
       "neutral       42758\n",
       "calm          24675\n",
       "frustrated     3684\n",
       "angry           389\n",
       "polite           87\n",
       "Name: agent_tone, dtype: int64"
      ]
     },
     "execution_count": 31,
     "metadata": {},
     "output_type": "execute_result"
    }
   ],
   "source": [
    "sentiment['agent_tone'].value_counts()"
   ]
  },
  {
   "cell_type": "code",
   "execution_count": 16,
   "id": "059465f4",
   "metadata": {},
   "outputs": [
    {
     "data": {
      "text/plain": [
       "neutral       14444\n",
       "angry         14408\n",
       "polite        14371\n",
       "calm          14347\n",
       "frustrated    14240\n",
       "Name: customer_tone, dtype: int64"
      ]
     },
     "execution_count": 16,
     "metadata": {},
     "output_type": "execute_result"
    }
   ],
   "source": [
    "sentiment['customer_tone'].value_counts()"
   ]
  },
  {
   "cell_type": "code",
   "execution_count": 34,
   "id": "1355583f",
   "metadata": {},
   "outputs": [],
   "source": [
    "calls_shape = calls.shape\n",
    "customers_shape = customers.shape\n",
    "reason_shape = reason.shape\n",
    "sentiment_shape = sentiment.shape"
   ]
  },
  {
   "cell_type": "code",
   "execution_count": 9,
   "id": "7441ad34",
   "metadata": {},
   "outputs": [
    {
     "name": "stdout",
     "output_type": "stream",
     "text": [
      "(71810, 7)\n",
      "(71810, 3)\n",
      "(66653, 2)\n",
      "(71810, 6)\n"
     ]
    }
   ],
   "source": [
    "print(calls_shape)\n",
    "print(customers_shape)\n",
    "print(reason_shape)\n",
    "print(sentiment_shape)"
   ]
  },
  {
   "cell_type": "code",
   "execution_count": 11,
   "id": "bab8868d",
   "metadata": {},
   "outputs": [
    {
     "data": {
      "text/html": [
       "<div>\n",
       "<style scoped>\n",
       "    .dataframe tbody tr th:only-of-type {\n",
       "        vertical-align: middle;\n",
       "    }\n",
       "\n",
       "    .dataframe tbody tr th {\n",
       "        vertical-align: top;\n",
       "    }\n",
       "\n",
       "    .dataframe thead th {\n",
       "        text-align: right;\n",
       "    }\n",
       "</style>\n",
       "<table border=\"1\" class=\"dataframe\">\n",
       "  <thead>\n",
       "    <tr style=\"text-align: right;\">\n",
       "      <th></th>\n",
       "      <th>call_id</th>\n",
       "      <th>customer_id</th>\n",
       "      <th>agent_id</th>\n",
       "      <th>call_start_datetime</th>\n",
       "      <th>agent_assigned_datetime</th>\n",
       "      <th>call_end_datetime</th>\n",
       "      <th>call_transcript</th>\n",
       "    </tr>\n",
       "  </thead>\n",
       "  <tbody>\n",
       "    <tr>\n",
       "      <th>71805</th>\n",
       "      <td>1563273072</td>\n",
       "      <td>8022667294</td>\n",
       "      <td>413148</td>\n",
       "      <td>8/31/2024 23:48</td>\n",
       "      <td>8/31/2024 23:57</td>\n",
       "      <td>9/1/2024 0:25</td>\n",
       "      <td>\\n\\nAgent: Thank you for calling United Airlin...</td>\n",
       "    </tr>\n",
       "    <tr>\n",
       "      <th>71806</th>\n",
       "      <td>8865997781</td>\n",
       "      <td>4474867021</td>\n",
       "      <td>980156</td>\n",
       "      <td>8/31/2024 23:55</td>\n",
       "      <td>8/31/2024 23:58</td>\n",
       "      <td>9/1/2024 0:06</td>\n",
       "      <td>\\n\\nAgent: Thank you for calling United Airlin...</td>\n",
       "    </tr>\n",
       "    <tr>\n",
       "      <th>71807</th>\n",
       "      <td>8019240181</td>\n",
       "      <td>9762042472</td>\n",
       "      <td>616988</td>\n",
       "      <td>8/31/2024 23:52</td>\n",
       "      <td>8/31/2024 23:58</td>\n",
       "      <td>9/1/2024 0:04</td>\n",
       "      <td>\\n\\nAgent: Thank you for calling United Airlin...</td>\n",
       "    </tr>\n",
       "    <tr>\n",
       "      <th>71808</th>\n",
       "      <td>8332067080</td>\n",
       "      <td>8095620266</td>\n",
       "      <td>161354</td>\n",
       "      <td>8/31/2024 23:53</td>\n",
       "      <td>8/31/2024 23:59</td>\n",
       "      <td>9/1/2024 0:03</td>\n",
       "      <td>\\n\\nAgent: Thank you for calling United Airlin...</td>\n",
       "    </tr>\n",
       "    <tr>\n",
       "      <th>71809</th>\n",
       "      <td>8210720833</td>\n",
       "      <td>8014388758</td>\n",
       "      <td>547592</td>\n",
       "      <td>8/31/2024 23:49</td>\n",
       "      <td>8/31/2024 23:59</td>\n",
       "      <td>9/1/2024 0:02</td>\n",
       "      <td>\\n\\nAgent: Thank you for calling United Airlin...</td>\n",
       "    </tr>\n",
       "  </tbody>\n",
       "</table>\n",
       "</div>"
      ],
      "text/plain": [
       "          call_id  customer_id  agent_id call_start_datetime  \\\n",
       "71805  1563273072   8022667294    413148     8/31/2024 23:48   \n",
       "71806  8865997781   4474867021    980156     8/31/2024 23:55   \n",
       "71807  8019240181   9762042472    616988     8/31/2024 23:52   \n",
       "71808  8332067080   8095620266    161354     8/31/2024 23:53   \n",
       "71809  8210720833   8014388758    547592     8/31/2024 23:49   \n",
       "\n",
       "      agent_assigned_datetime call_end_datetime  \\\n",
       "71805         8/31/2024 23:57     9/1/2024 0:25   \n",
       "71806         8/31/2024 23:58     9/1/2024 0:06   \n",
       "71807         8/31/2024 23:58     9/1/2024 0:04   \n",
       "71808         8/31/2024 23:59     9/1/2024 0:03   \n",
       "71809         8/31/2024 23:59     9/1/2024 0:02   \n",
       "\n",
       "                                         call_transcript  \n",
       "71805  \\n\\nAgent: Thank you for calling United Airlin...  \n",
       "71806  \\n\\nAgent: Thank you for calling United Airlin...  \n",
       "71807  \\n\\nAgent: Thank you for calling United Airlin...  \n",
       "71808  \\n\\nAgent: Thank you for calling United Airlin...  \n",
       "71809  \\n\\nAgent: Thank you for calling United Airlin...  "
      ]
     },
     "execution_count": 11,
     "metadata": {},
     "output_type": "execute_result"
    }
   ],
   "source": [
    "calls.tail()"
   ]
  },
  {
   "cell_type": "code",
   "execution_count": 13,
   "id": "c7aa9de5",
   "metadata": {},
   "outputs": [
    {
     "data": {
      "text/html": [
       "<div>\n",
       "<style scoped>\n",
       "    .dataframe tbody tr th:only-of-type {\n",
       "        vertical-align: middle;\n",
       "    }\n",
       "\n",
       "    .dataframe tbody tr th {\n",
       "        vertical-align: top;\n",
       "    }\n",
       "\n",
       "    .dataframe thead th {\n",
       "        text-align: right;\n",
       "    }\n",
       "</style>\n",
       "<table border=\"1\" class=\"dataframe\">\n",
       "  <thead>\n",
       "    <tr style=\"text-align: right;\">\n",
       "      <th></th>\n",
       "      <th>call_id</th>\n",
       "      <th>agent_id</th>\n",
       "      <th>agent_tone</th>\n",
       "      <th>customer_tone</th>\n",
       "      <th>average_sentiment</th>\n",
       "      <th>silence_percent_average</th>\n",
       "    </tr>\n",
       "  </thead>\n",
       "  <tbody>\n",
       "    <tr>\n",
       "      <th>71805</th>\n",
       "      <td>1563273072</td>\n",
       "      <td>413148</td>\n",
       "      <td>calm</td>\n",
       "      <td>calm</td>\n",
       "      <td>0.05</td>\n",
       "      <td>0.34</td>\n",
       "    </tr>\n",
       "    <tr>\n",
       "      <th>71806</th>\n",
       "      <td>8865997781</td>\n",
       "      <td>980156</td>\n",
       "      <td>calm</td>\n",
       "      <td>frustrated</td>\n",
       "      <td>0.03</td>\n",
       "      <td>0.22</td>\n",
       "    </tr>\n",
       "    <tr>\n",
       "      <th>71807</th>\n",
       "      <td>8019240181</td>\n",
       "      <td>616988</td>\n",
       "      <td>calm</td>\n",
       "      <td>polite</td>\n",
       "      <td>0.05</td>\n",
       "      <td>0.42</td>\n",
       "    </tr>\n",
       "    <tr>\n",
       "      <th>71808</th>\n",
       "      <td>8332067080</td>\n",
       "      <td>161354</td>\n",
       "      <td>neutral</td>\n",
       "      <td>polite</td>\n",
       "      <td>-0.07</td>\n",
       "      <td>0.13</td>\n",
       "    </tr>\n",
       "    <tr>\n",
       "      <th>71809</th>\n",
       "      <td>8210720833</td>\n",
       "      <td>547592</td>\n",
       "      <td>neutral</td>\n",
       "      <td>calm</td>\n",
       "      <td>0.00</td>\n",
       "      <td>0.10</td>\n",
       "    </tr>\n",
       "  </tbody>\n",
       "</table>\n",
       "</div>"
      ],
      "text/plain": [
       "          call_id  agent_id agent_tone customer_tone  average_sentiment  \\\n",
       "71805  1563273072    413148       calm          calm               0.05   \n",
       "71806  8865997781    980156       calm    frustrated               0.03   \n",
       "71807  8019240181    616988       calm        polite               0.05   \n",
       "71808  8332067080    161354    neutral        polite              -0.07   \n",
       "71809  8210720833    547592    neutral          calm               0.00   \n",
       "\n",
       "       silence_percent_average  \n",
       "71805                     0.34  \n",
       "71806                     0.22  \n",
       "71807                     0.42  \n",
       "71808                     0.13  \n",
       "71809                     0.10  "
      ]
     },
     "execution_count": 13,
     "metadata": {},
     "output_type": "execute_result"
    }
   ],
   "source": [
    "sentiment.tail()"
   ]
  },
  {
   "cell_type": "code",
   "execution_count": 21,
   "id": "47476471",
   "metadata": {},
   "outputs": [],
   "source": [
    "reason_df = reason"
   ]
  },
  {
   "cell_type": "code",
   "execution_count": 22,
   "id": "c6ed78c6",
   "metadata": {},
   "outputs": [
    {
     "data": {
      "text/html": [
       "<div>\n",
       "<style scoped>\n",
       "    .dataframe tbody tr th:only-of-type {\n",
       "        vertical-align: middle;\n",
       "    }\n",
       "\n",
       "    .dataframe tbody tr th {\n",
       "        vertical-align: top;\n",
       "    }\n",
       "\n",
       "    .dataframe thead th {\n",
       "        text-align: right;\n",
       "    }\n",
       "</style>\n",
       "<table border=\"1\" class=\"dataframe\">\n",
       "  <thead>\n",
       "    <tr style=\"text-align: right;\">\n",
       "      <th></th>\n",
       "      <th>call_id</th>\n",
       "      <th>primary_call_reason</th>\n",
       "    </tr>\n",
       "  </thead>\n",
       "  <tbody>\n",
       "    <tr>\n",
       "      <th>0</th>\n",
       "      <td>4667960400</td>\n",
       "      <td>Voluntary  Cancel</td>\n",
       "    </tr>\n",
       "    <tr>\n",
       "      <th>1</th>\n",
       "      <td>1122072124</td>\n",
       "      <td>Booking</td>\n",
       "    </tr>\n",
       "    <tr>\n",
       "      <th>2</th>\n",
       "      <td>6834291559</td>\n",
       "      <td>IRROPS</td>\n",
       "    </tr>\n",
       "    <tr>\n",
       "      <th>3</th>\n",
       "      <td>2266439882</td>\n",
       "      <td>Upgrade</td>\n",
       "    </tr>\n",
       "    <tr>\n",
       "      <th>4</th>\n",
       "      <td>1211603231</td>\n",
       "      <td>Seating</td>\n",
       "    </tr>\n",
       "  </tbody>\n",
       "</table>\n",
       "</div>"
      ],
      "text/plain": [
       "      call_id primary_call_reason\n",
       "0  4667960400   Voluntary  Cancel\n",
       "1  1122072124             Booking\n",
       "2  6834291559              IRROPS\n",
       "3  2266439882             Upgrade\n",
       "4  1211603231             Seating"
      ]
     },
     "execution_count": 22,
     "metadata": {},
     "output_type": "execute_result"
    }
   ],
   "source": [
    "reason_df.head()"
   ]
  },
  {
   "cell_type": "code",
   "execution_count": 23,
   "id": "6520dea8",
   "metadata": {},
   "outputs": [],
   "source": [
    "reason_df['primary_call_reason'] = (reason_df['primary_call_reason']\n",
    "                .str.lower()                                  # Convert to lowercase\n",
    "                .str.strip()                                  # Remove leading and trailing spaces\n",
    "                .str.replace(r'\\s+', ' ', regex=True))"
   ]
  },
  {
   "cell_type": "code",
   "execution_count": 26,
   "id": "bbb83d37",
   "metadata": {},
   "outputs": [
    {
     "data": {
      "text/plain": [
       "irrops                   13311\n",
       "voluntary change         10848\n",
       "seating                   6365\n",
       "mileage plus              5851\n",
       "post-flight               3957\n",
       "communications            3840\n",
       "products and services     2856\n",
       "baggage                   2832\n",
       "upgrade                   2738\n",
       "booking                   2637\n",
       "checkout                  1888\n",
       "voluntary cancel          1607\n",
       "check-in                  1519\n",
       "digital support           1225\n",
       "etc                        952\n",
       "traveler updates           937\n",
       "other topics               818\n",
       "schedule change            731\n",
       "products & services        476\n",
       "disability                 403\n",
       "check in                   385\n",
       "post flight                373\n",
       "unaccompanied minor        104\n",
       "Name: primary_call_reason, dtype: int64"
      ]
     },
     "execution_count": 26,
     "metadata": {},
     "output_type": "execute_result"
    }
   ],
   "source": [
    "reason_df['primary_call_reason'].value_counts()"
   ]
  },
  {
   "cell_type": "code",
   "execution_count": 28,
   "id": "1bc5e46c",
   "metadata": {},
   "outputs": [
    {
     "name": "stdout",
     "output_type": "stream",
     "text": [
      "Defaulting to user installation because normal site-packages is not writeable\n",
      "Collecting wordcloud\n",
      "  Downloading wordcloud-1.9.3-cp39-cp39-win_amd64.whl (300 kB)\n",
      "Requirement already satisfied: numpy>=1.6.1 in c:\\users\\anjum\\appdata\\roaming\\python\\python39\\site-packages (from wordcloud) (1.25.0)\n",
      "Requirement already satisfied: matplotlib in c:\\programdata\\anaconda3\\lib\\site-packages (from wordcloud) (3.5.1)\n",
      "Requirement already satisfied: pillow in c:\\programdata\\anaconda3\\lib\\site-packages (from wordcloud) (9.0.1)\n",
      "Requirement already satisfied: pyparsing>=2.2.1 in c:\\programdata\\anaconda3\\lib\\site-packages (from matplotlib->wordcloud) (3.0.4)\n",
      "Requirement already satisfied: python-dateutil>=2.7 in c:\\programdata\\anaconda3\\lib\\site-packages (from matplotlib->wordcloud) (2.8.2)\n",
      "Requirement already satisfied: fonttools>=4.22.0 in c:\\programdata\\anaconda3\\lib\\site-packages (from matplotlib->wordcloud) (4.25.0)\n",
      "Requirement already satisfied: kiwisolver>=1.0.1 in c:\\programdata\\anaconda3\\lib\\site-packages (from matplotlib->wordcloud) (1.3.2)\n",
      "Requirement already satisfied: packaging>=20.0 in c:\\programdata\\anaconda3\\lib\\site-packages (from matplotlib->wordcloud) (21.3)\n",
      "Requirement already satisfied: cycler>=0.10 in c:\\programdata\\anaconda3\\lib\\site-packages (from matplotlib->wordcloud) (0.11.0)\n",
      "Requirement already satisfied: six>=1.5 in c:\\programdata\\anaconda3\\lib\\site-packages (from python-dateutil>=2.7->matplotlib->wordcloud) (1.16.0)\n",
      "Installing collected packages: wordcloud\n",
      "Successfully installed wordcloud-1.9.3\n",
      "Note: you may need to restart the kernel to use updated packages.\n"
     ]
    }
   ],
   "source": [
    "pip install wordcloud"
   ]
  },
  {
   "cell_type": "code",
   "execution_count": 29,
   "id": "f9aef7b6",
   "metadata": {},
   "outputs": [],
   "source": [
    "from wordcloud import WordCloud"
   ]
  },
  {
   "cell_type": "code",
   "execution_count": 36,
   "id": "748499f5",
   "metadata": {},
   "outputs": [
    {
     "ename": "KeyError",
     "evalue": "'call_end_datetime'",
     "output_type": "error",
     "traceback": [
      "\u001b[1;31m---------------------------------------------------------------------------\u001b[0m",
      "\u001b[1;31mKeyError\u001b[0m                                  Traceback (most recent call last)",
      "Input \u001b[1;32mIn [36]\u001b[0m, in \u001b[0;36m<cell line: 3>\u001b[1;34m()\u001b[0m\n\u001b[0;32m      1\u001b[0m \u001b[38;5;66;03m# Convert the call_start_datetime and call_end_datetime columns to datetime format\u001b[39;00m\n\u001b[0;32m      2\u001b[0m calls \u001b[38;5;241m=\u001b[39m pd\u001b[38;5;241m.\u001b[39mto_datetime(calls[\u001b[38;5;124m'\u001b[39m\u001b[38;5;124mcall_start_datetime\u001b[39m\u001b[38;5;124m'\u001b[39m])\n\u001b[1;32m----> 3\u001b[0m calls \u001b[38;5;241m=\u001b[39m pd\u001b[38;5;241m.\u001b[39mto_datetime(\u001b[43mcalls\u001b[49m\u001b[43m[\u001b[49m\u001b[38;5;124;43m'\u001b[39;49m\u001b[38;5;124;43mcall_end_datetime\u001b[39;49m\u001b[38;5;124;43m'\u001b[39;49m\u001b[43m]\u001b[49m)\n\u001b[0;32m      5\u001b[0m \u001b[38;5;66;03m# Calculate the time spent on each call\u001b[39;00m\n\u001b[0;32m      6\u001b[0m calls[\u001b[38;5;124m'\u001b[39m\u001b[38;5;124mcall_duration\u001b[39m\u001b[38;5;124m'\u001b[39m] \u001b[38;5;241m=\u001b[39m calls[\u001b[38;5;124m'\u001b[39m\u001b[38;5;124mcall_end_datetime\u001b[39m\u001b[38;5;124m'\u001b[39m] \u001b[38;5;241m-\u001b[39m calls[\u001b[38;5;124m'\u001b[39m\u001b[38;5;124mcall_start_datetime\u001b[39m\u001b[38;5;124m'\u001b[39m]\n",
      "File \u001b[1;32mC:\\ProgramData\\Anaconda3\\lib\\site-packages\\pandas\\core\\series.py:958\u001b[0m, in \u001b[0;36mSeries.__getitem__\u001b[1;34m(self, key)\u001b[0m\n\u001b[0;32m    955\u001b[0m     \u001b[38;5;28;01mreturn\u001b[39;00m \u001b[38;5;28mself\u001b[39m\u001b[38;5;241m.\u001b[39m_values[key]\n\u001b[0;32m    957\u001b[0m \u001b[38;5;28;01melif\u001b[39;00m key_is_scalar:\n\u001b[1;32m--> 958\u001b[0m     \u001b[38;5;28;01mreturn\u001b[39;00m \u001b[38;5;28;43mself\u001b[39;49m\u001b[38;5;241;43m.\u001b[39;49m\u001b[43m_get_value\u001b[49m\u001b[43m(\u001b[49m\u001b[43mkey\u001b[49m\u001b[43m)\u001b[49m\n\u001b[0;32m    960\u001b[0m \u001b[38;5;28;01mif\u001b[39;00m is_hashable(key):\n\u001b[0;32m    961\u001b[0m     \u001b[38;5;66;03m# Otherwise index.get_value will raise InvalidIndexError\u001b[39;00m\n\u001b[0;32m    962\u001b[0m     \u001b[38;5;28;01mtry\u001b[39;00m:\n\u001b[0;32m    963\u001b[0m         \u001b[38;5;66;03m# For labels that don't resolve as scalars like tuples and frozensets\u001b[39;00m\n",
      "File \u001b[1;32mC:\\ProgramData\\Anaconda3\\lib\\site-packages\\pandas\\core\\series.py:1069\u001b[0m, in \u001b[0;36mSeries._get_value\u001b[1;34m(self, label, takeable)\u001b[0m\n\u001b[0;32m   1066\u001b[0m     \u001b[38;5;28;01mreturn\u001b[39;00m \u001b[38;5;28mself\u001b[39m\u001b[38;5;241m.\u001b[39m_values[label]\n\u001b[0;32m   1068\u001b[0m \u001b[38;5;66;03m# Similar to Index.get_value, but we do not fall back to positional\u001b[39;00m\n\u001b[1;32m-> 1069\u001b[0m loc \u001b[38;5;241m=\u001b[39m \u001b[38;5;28;43mself\u001b[39;49m\u001b[38;5;241;43m.\u001b[39;49m\u001b[43mindex\u001b[49m\u001b[38;5;241;43m.\u001b[39;49m\u001b[43mget_loc\u001b[49m\u001b[43m(\u001b[49m\u001b[43mlabel\u001b[49m\u001b[43m)\u001b[49m\n\u001b[0;32m   1070\u001b[0m \u001b[38;5;28;01mreturn\u001b[39;00m \u001b[38;5;28mself\u001b[39m\u001b[38;5;241m.\u001b[39mindex\u001b[38;5;241m.\u001b[39m_get_values_for_loc(\u001b[38;5;28mself\u001b[39m, loc, label)\n",
      "File \u001b[1;32mC:\\ProgramData\\Anaconda3\\lib\\site-packages\\pandas\\core\\indexes\\range.py:389\u001b[0m, in \u001b[0;36mRangeIndex.get_loc\u001b[1;34m(self, key, method, tolerance)\u001b[0m\n\u001b[0;32m    387\u001b[0m             \u001b[38;5;28;01mraise\u001b[39;00m \u001b[38;5;167;01mKeyError\u001b[39;00m(key) \u001b[38;5;28;01mfrom\u001b[39;00m \u001b[38;5;21;01merr\u001b[39;00m\n\u001b[0;32m    388\u001b[0m     \u001b[38;5;28mself\u001b[39m\u001b[38;5;241m.\u001b[39m_check_indexing_error(key)\n\u001b[1;32m--> 389\u001b[0m     \u001b[38;5;28;01mraise\u001b[39;00m \u001b[38;5;167;01mKeyError\u001b[39;00m(key)\n\u001b[0;32m    390\u001b[0m \u001b[38;5;28;01mreturn\u001b[39;00m \u001b[38;5;28msuper\u001b[39m()\u001b[38;5;241m.\u001b[39mget_loc(key, method\u001b[38;5;241m=\u001b[39mmethod, tolerance\u001b[38;5;241m=\u001b[39mtolerance)\n",
      "\u001b[1;31mKeyError\u001b[0m: 'call_end_datetime'"
     ]
    }
   ],
   "source": [
    "# Convert the call_start_datetime and call_end_datetime columns to datetime format\n",
    "calls = pd.to_datetime(calls['call_start_datetime'])\n",
    "calls = pd.to_datetime(calls['call_end_datetime'])\n",
    "\n",
    "# Calculate the time spent on each call\n",
    "calls['call_duration'] = calls['call_end_datetime'] - calls['call_start_datetime']\n",
    "\n",
    "# Display the DataFrame with the new call_duration column\n",
    "print(calls[['call_id', 'call_start_datetime', 'call_end_datetime', 'call_duration']])"
   ]
  },
  {
   "cell_type": "code",
   "execution_count": null,
   "id": "ea6833ae",
   "metadata": {},
   "outputs": [],
   "source": []
  }
 ],
 "metadata": {
  "kernelspec": {
   "display_name": "Python 3 (ipykernel)",
   "language": "python",
   "name": "python3"
  },
  "language_info": {
   "codemirror_mode": {
    "name": "ipython",
    "version": 3
   },
   "file_extension": ".py",
   "mimetype": "text/x-python",
   "name": "python",
   "nbconvert_exporter": "python",
   "pygments_lexer": "ipython3",
   "version": "3.9.12"
  }
 },
 "nbformat": 4,
 "nbformat_minor": 5
}
